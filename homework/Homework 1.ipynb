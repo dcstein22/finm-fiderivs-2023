{
 "cells": [
  {
   "attachments": {},
   "cell_type": "markdown",
   "id": "13234336",
   "metadata": {},
   "source": [
    "# Homework 1\n",
    "\n",
    "## FINM 37500 - 2023\n",
    "\n",
    "### UChicago Financial Mathematics\n",
    "\n",
    "* Mark Hendricks\n",
    "* hendricks@uchicago.edu\n",
    "\n",
    "\n",
    "\n"
   ]
  },
  {
   "attachments": {},
   "cell_type": "markdown",
   "id": "2cd7a5fc",
   "metadata": {},
   "source": [
    "**Students:** Danny Stein, Joseph Padilla"
   ]
  },
  {
   "cell_type": "markdown",
   "id": "9fd45132",
   "metadata": {},
   "source": [
    "# Context\n",
    "\n",
    "For use in these problems, consider the data below, discussed in Veronesi's *Fixed Income Securities* Chapters 9, 10.\n",
    "* interest-rate tree\n",
    "* current term structure"
   ]
  },
  {
   "cell_type": "code",
   "execution_count": 1,
   "id": "77c9623a",
   "metadata": {},
   "outputs": [],
   "source": [
    "import numpy as np\n",
    "import pandas as pd\n",
    "import matplotlib.pyplot as plt\n",
    "import matplotlib as mpl \n",
    "%matplotlib inline\n",
    "plt.style.use('seaborn')\n",
    "mpl.rcParams['font.family'] = 'serif'\n",
    "import sympy"
   ]
  },
  {
   "cell_type": "code",
   "execution_count": 2,
   "id": "98b27b7b",
   "metadata": {},
   "outputs": [
    {
     "data": {
      "text/html": [
       "<style type=\"text/css\">\n",
       "</style>\n",
       "<table id=\"T_9434c\">\n",
       "  <thead>\n",
       "    <tr>\n",
       "      <th class=\"index_name level0\" >time $t$</th>\n",
       "      <th id=\"T_9434c_level0_col0\" class=\"col_heading level0 col0\" >0</th>\n",
       "      <th id=\"T_9434c_level0_col1\" class=\"col_heading level0 col1\" >0.5</th>\n",
       "    </tr>\n",
       "    <tr>\n",
       "      <th class=\"index_name level0\" >node</th>\n",
       "      <th class=\"blank col0\" >&nbsp;</th>\n",
       "      <th class=\"blank col1\" >&nbsp;</th>\n",
       "    </tr>\n",
       "  </thead>\n",
       "  <tbody>\n",
       "    <tr>\n",
       "      <th id=\"T_9434c_level0_row0\" class=\"row_heading level0 row0\" >0</th>\n",
       "      <td id=\"T_9434c_row0_col0\" class=\"data row0 col0\" >1.74%</td>\n",
       "      <td id=\"T_9434c_row0_col1\" class=\"data row0 col1\" >3.39%</td>\n",
       "    </tr>\n",
       "    <tr>\n",
       "      <th id=\"T_9434c_level0_row1\" class=\"row_heading level0 row1\" >1</th>\n",
       "      <td id=\"T_9434c_row1_col0\" class=\"data row1 col0\" ></td>\n",
       "      <td id=\"T_9434c_row1_col1\" class=\"data row1 col1\" >0.95%</td>\n",
       "    </tr>\n",
       "  </tbody>\n",
       "</table>\n"
      ],
      "text/plain": [
       "<pandas.io.formats.style.Styler at 0x19c941f6550>"
      ]
     },
     "execution_count": 2,
     "metadata": {},
     "output_type": "execute_result"
    }
   ],
   "source": [
    "rate_tree = pd.DataFrame({'0':[.0174,np.nan],'0.5':[.0339,.0095]})\n",
    "rate_tree.columns.name = 'time $t$'\n",
    "rate_tree.index.name = 'node'\n",
    "rate_tree.style.format('{:.2%}',na_rep='')"
   ]
  },
  {
   "cell_type": "markdown",
   "id": "f2ffc190",
   "metadata": {},
   "source": [
    "The \"tree\" is displayed as a pandas dataframe, so it does not list \"up\" and \"down\" for the rows but rather an index of nodes. The meaning should be clear."
   ]
  },
  {
   "cell_type": "code",
   "execution_count": 3,
   "id": "ff1a260f",
   "metadata": {},
   "outputs": [
    {
     "data": {
      "text/html": [
       "<style type=\"text/css\">\n",
       "</style>\n",
       "<table id=\"T_05313\">\n",
       "  <thead>\n",
       "    <tr>\n",
       "      <th class=\"blank level0\" >&nbsp;</th>\n",
       "      <th id=\"T_05313_level0_col0\" class=\"col_heading level0 col0\" >price</th>\n",
       "      <th id=\"T_05313_level0_col1\" class=\"col_heading level0 col1\" >continuous ytm</th>\n",
       "    </tr>\n",
       "    <tr>\n",
       "      <th class=\"index_name level0\" >maturity</th>\n",
       "      <th class=\"blank col0\" >&nbsp;</th>\n",
       "      <th class=\"blank col1\" >&nbsp;</th>\n",
       "    </tr>\n",
       "  </thead>\n",
       "  <tbody>\n",
       "    <tr>\n",
       "      <th id=\"T_05313_level0_row0\" class=\"row_heading level0 row0\" >0.5</th>\n",
       "      <td id=\"T_05313_row0_col0\" class=\"data row0 col0\" >99.1338</td>\n",
       "      <td id=\"T_05313_row0_col1\" class=\"data row0 col1\" >1.74%</td>\n",
       "    </tr>\n",
       "    <tr>\n",
       "      <th id=\"T_05313_level0_row1\" class=\"row_heading level0 row1\" >1.0</th>\n",
       "      <td id=\"T_05313_row1_col0\" class=\"data row1 col0\" >97.8925</td>\n",
       "      <td id=\"T_05313_row1_col1\" class=\"data row1 col1\" >2.13%</td>\n",
       "    </tr>\n",
       "    <tr>\n",
       "      <th id=\"T_05313_level0_row2\" class=\"row_heading level0 row2\" >1.5</th>\n",
       "      <td id=\"T_05313_row2_col0\" class=\"data row2 col0\" >96.1462</td>\n",
       "      <td id=\"T_05313_row2_col1\" class=\"data row2 col1\" >2.62%</td>\n",
       "    </tr>\n",
       "  </tbody>\n",
       "</table>\n"
      ],
      "text/plain": [
       "<pandas.io.formats.style.Styler at 0x19c964e8280>"
      ]
     },
     "execution_count": 3,
     "metadata": {},
     "output_type": "execute_result"
    }
   ],
   "source": [
    "term_struct = pd.DataFrame({'maturity':[.5,1,1.5],'price':[99.1338,97.8925,96.1462]})\n",
    "term_struct['continuous ytm'] = -np.log(term_struct['price']/100) / term_struct['maturity']\n",
    "term_struct.set_index('maturity',inplace=True)\n",
    "term_struct.style.format({'price':'{:.4f}','continuous ytm':'{:.2%}'}).format_index('{:.1f}')"
   ]
  },
  {
   "cell_type": "markdown",
   "id": "4c7113c7",
   "metadata": {},
   "source": [
    "This is the current term-structure observed at $t=0$."
   ]
  },
  {
   "cell_type": "markdown",
   "id": "a0440315",
   "metadata": {},
   "source": [
    "# 1. Pricing a Swap\n",
    "\n",
    "### 1.1 \n",
    "Calculate the tree of bond prices for the 2-period, $T=1$, bond.\n",
    "\n",
    "### 1.2 \n",
    "What is the risk-neutral probability of an upward movement of interest rates at $t=.5$?\n",
    "\n",
    "## The option contract\n",
    "\n",
    "Consider a single-period swap that pays at time period 1 ($t=0.5$), the expiration payoff (and thus terminal value) is\n",
    "* Payoff = $\\frac{100}{2}(r_1 −c)$\n",
    "* with $c=2\\%$\n",
    "* payments are semiannual\n",
    "\n",
    "Take the viewpoint of a fixed-rate payer, floating rate receiver.\n",
    "\n",
    "### 1.3 \n",
    "What is the replicating trade using the two bonds (period 1 and period 2)?\n",
    "\n",
    "### 1.4 \n",
    "What is the price of the swap?"
   ]
  },
  {
   "cell_type": "code",
   "execution_count": 4,
   "id": "1d56c73e",
   "metadata": {},
   "outputs": [],
   "source": [
    "# 1.1 Calculating the tree of bond prices\n",
    "\n",
    "dt = .5\n",
    "r0 = .0174\n",
    "Rates = [.0339,.0095]\n",
    "Z = np.exp(-r0 * .5)\n",
    "A = np.exp(r0*.5)\n",
    "P_1u = 100* np.exp(-rate_tree.iloc[0,1]*dt)\n",
    "P_1d = 100*np.exp(-rate_tree.iloc[1,1]*dt)\n",
    "P_df = pd.DataFrame([P_1u,P_1d], columns=['Period_1'])\n",
    "P_df.insert(0,'Period_0',97.8925)\n",
    "P_df.iloc[1,0] = 0\n",
    "P_df['Period_2'] = 100\n",
    "\n"
   ]
  },
  {
   "cell_type": "code",
   "execution_count": 5,
   "id": "ed3e95cf",
   "metadata": {},
   "outputs": [
    {
     "data": {
      "text/html": [
       "<div>\n",
       "<style scoped>\n",
       "    .dataframe tbody tr th:only-of-type {\n",
       "        vertical-align: middle;\n",
       "    }\n",
       "\n",
       "    .dataframe tbody tr th {\n",
       "        vertical-align: top;\n",
       "    }\n",
       "\n",
       "    .dataframe thead th {\n",
       "        text-align: right;\n",
       "    }\n",
       "</style>\n",
       "<table border=\"1\" class=\"dataframe\">\n",
       "  <thead>\n",
       "    <tr style=\"text-align: right;\">\n",
       "      <th></th>\n",
       "      <th>Period_0</th>\n",
       "      <th>Period_1</th>\n",
       "      <th>Period_2</th>\n",
       "    </tr>\n",
       "  </thead>\n",
       "  <tbody>\n",
       "    <tr>\n",
       "      <th>0</th>\n",
       "      <td>97.8925</td>\n",
       "      <td>98.319284</td>\n",
       "      <td>100</td>\n",
       "    </tr>\n",
       "    <tr>\n",
       "      <th>1</th>\n",
       "      <td>0.0000</td>\n",
       "      <td>99.526126</td>\n",
       "      <td>100</td>\n",
       "    </tr>\n",
       "  </tbody>\n",
       "</table>\n",
       "</div>"
      ],
      "text/plain": [
       "   Period_0   Period_1  Period_2\n",
       "0   97.8925  98.319284       100\n",
       "1    0.0000  99.526126       100"
      ]
     },
     "execution_count": 5,
     "metadata": {},
     "output_type": "execute_result"
    }
   ],
   "source": [
    "P_df"
   ]
  },
  {
   "attachments": {},
   "cell_type": "markdown",
   "id": "5cf2619f",
   "metadata": {},
   "source": [
    "## 1.2\n",
    "\n",
    "- The risk neutral probability of an upward movement in interest rates at T = .5 is equal to this: \n",
    "\n",
    "$p^* = \\frac{A P_{0|2} - P_{1d|2}}{P_{1u|2}-P_{1d|2}}$\n",
    "\n"
   ]
  },
  {
   "cell_type": "code",
   "execution_count": 6,
   "id": "0612446e",
   "metadata": {},
   "outputs": [
    {
     "name": "stdout",
     "output_type": "stream",
     "text": [
      "The probability of an upward movement in interest rates at time t=0.5 is 0.64486\n"
     ]
    }
   ],
   "source": [
    "p = (A*P_df.loc[0,'Period_0'] - P_1d)/(P_1u-P_1d)\n",
    "print(f'The probability of an upward movement in interest rates at time t=0.5 is {np.round(p,5)}')"
   ]
  },
  {
   "cell_type": "code",
   "execution_count": 7,
   "id": "5d6b553b",
   "metadata": {},
   "outputs": [],
   "source": [
    "P_float, P_fixed_u,P_fixed_d,Vswap_u, Vswap_d = sympy.symbols(\"P_float P_fixed_u P_fixed_d V_swap_u V_swap_d\")\n",
    "A = sympy.Matrix([[100,98.3193],[100,99.5261]])\n",
    "b = sympy.Matrix([50*(.0339-.02),50*(.0095-.02)])\n",
    "alpha,beta = A.solve(b)"
   ]
  },
  {
   "cell_type": "code",
   "execution_count": 8,
   "id": "d876c2de",
   "metadata": {},
   "outputs": [
    {
     "data": {
      "text/html": [
       "<style type=\"text/css\">\n",
       "</style>\n",
       "<table id=\"T_76580\">\n",
       "  <thead>\n",
       "    <tr>\n",
       "      <th class=\"blank level0\" >&nbsp;</th>\n",
       "      <th id=\"T_76580_level0_col0\" class=\"col_heading level0 col0\" >price</th>\n",
       "      <th id=\"T_76580_level0_col1\" class=\"col_heading level0 col1\" >position</th>\n",
       "      <th id=\"T_76580_level0_col2\" class=\"col_heading level0 col2\" >$ holding</th>\n",
       "    </tr>\n",
       "  </thead>\n",
       "  <tbody>\n",
       "    <tr>\n",
       "      <th id=\"T_76580_level0_row0\" class=\"row_heading level0 row0\" >1-period bond</th>\n",
       "      <td id=\"T_76580_row0_col0\" class=\"data row0 col0\" >$99.1338</td>\n",
       "      <td id=\"T_76580_row0_col1\" class=\"data row0 col1\" >$1.0009</td>\n",
       "      <td id=\"T_76580_row0_col2\" class=\"data row0 col2\" >$99.2227</td>\n",
       "    </tr>\n",
       "    <tr>\n",
       "      <th id=\"T_76580_level0_row1\" class=\"row_heading level0 row1\" >2-period bond</th>\n",
       "      <td id=\"T_76580_row1_col0\" class=\"data row1 col0\" >$97.8925</td>\n",
       "      <td id=\"T_76580_row1_col1\" class=\"data row1 col1\" >$-1.0109</td>\n",
       "      <td id=\"T_76580_row1_col2\" class=\"data row1 col2\" >$-98.9632</td>\n",
       "    </tr>\n",
       "    <tr>\n",
       "      <th id=\"T_76580_level0_row2\" class=\"row_heading level0 row2\" >net</th>\n",
       "      <td id=\"T_76580_row2_col0\" class=\"data row2 col0\" >$nan</td>\n",
       "      <td id=\"T_76580_row2_col1\" class=\"data row2 col1\" >$nan</td>\n",
       "      <td id=\"T_76580_row2_col2\" class=\"data row2 col2\" >$0.2595</td>\n",
       "    </tr>\n",
       "  </tbody>\n",
       "</table>\n"
      ],
      "text/plain": [
       "<pandas.io.formats.style.Styler at 0x19c964e8490>"
      ]
     },
     "execution_count": 8,
     "metadata": {},
     "output_type": "execute_result"
    }
   ],
   "source": [
    "position_df = pd.DataFrame(index=['1-period bond','2-period bond'],columns=['price','position','$ holding'],dtype=float)\n",
    "position_df['price'] = term_struct.iloc[0:2,0].values\n",
    "position_df[\"position\"] = [alpha,beta]\n",
    "position_df['$ holding'] = position_df['price']*position_df['position']\n",
    "position_df.loc['net','$ holding'] = position_df['$ holding'].sum()\n",
    "position_df.style.format('${:,.4f}')"
   ]
  },
  {
   "attachments": {},
   "cell_type": "markdown",
   "id": "a9f8c5df",
   "metadata": {},
   "source": [
    "- The value of the time-0 swap is $\\$0.2595$"
   ]
  },
  {
   "cell_type": "markdown",
   "id": "c21e15b7",
   "metadata": {},
   "source": [
    "# 2. Using the Swap as the Underlying\n",
    "As in the note, W.1, consider pricing the followign interest-rate option,\n",
    "* Payoff is $100\\max(r_K-r_1,0)$\n",
    "* strike is $r_K$ is 2\\%\n",
    "* expires at period 1, ($t=0.5$) \n",
    "\n",
    "Unlike the note, price it with the swap used as the underlying, not the two-period ($t=1$) bond. You will once again use the period-1 ($t=0.5$) bond as the cash account for the no-arbitrage pricing.\n",
    "\n",
    "So instead of replicating the option with the two treasuries, now you're replicating/pricing it with a one-period bond and two-period swap.\n",
    "\n",
    "### 2.1\n",
    "Display the tree of swap prices.\n",
    "\n",
    "### 2.2\n",
    "What is the risk-neutral probability of an upward movement at $t=.5$ implied by the underlying swap tree? \n",
    "\n",
    "Is this the same as the risk-neutral probability we found when the bond was used as the underlying?\n",
    "\n",
    "### 2.3\n",
    "What is the price of the rate option? Is it the same as we calculated in the note, W.1.?"
   ]
  },
  {
   "cell_type": "code",
   "execution_count": 9,
   "id": "4b9a4753",
   "metadata": {},
   "outputs": [],
   "source": [
    "swap_0 = position_df.iloc[2,2]\n",
    "rk = .02\n",
    "\n",
    "payoffs = 100*(rk - np.array(rate_tree.iloc[:,1]))\n",
    "payoffs[payoffs<0] = 0\n",
    "\n"
   ]
  },
  {
   "cell_type": "code",
   "execution_count": 10,
   "id": "5d016c03",
   "metadata": {},
   "outputs": [
    {
     "data": {
      "text/html": [
       "<div>\n",
       "<style scoped>\n",
       "    .dataframe tbody tr th:only-of-type {\n",
       "        vertical-align: middle;\n",
       "    }\n",
       "\n",
       "    .dataframe tbody tr th {\n",
       "        vertical-align: top;\n",
       "    }\n",
       "\n",
       "    .dataframe thead th {\n",
       "        text-align: right;\n",
       "    }\n",
       "</style>\n",
       "<table border=\"1\" class=\"dataframe\">\n",
       "  <thead>\n",
       "    <tr style=\"text-align: right;\">\n",
       "      <th></th>\n",
       "      <th>Period_0</th>\n",
       "      <th>Period_1</th>\n",
       "    </tr>\n",
       "  </thead>\n",
       "  <tbody>\n",
       "    <tr>\n",
       "      <th>0</th>\n",
       "      <td>0.259491206443485</td>\n",
       "      <td>0.695000000000000</td>\n",
       "    </tr>\n",
       "    <tr>\n",
       "      <th>1</th>\n",
       "      <td>0</td>\n",
       "      <td>-0.525000000000000</td>\n",
       "    </tr>\n",
       "  </tbody>\n",
       "</table>\n",
       "</div>"
      ],
      "text/plain": [
       "            Period_0            Period_1\n",
       "0  0.259491206443485   0.695000000000000\n",
       "1                  0  -0.525000000000000"
      ]
     },
     "execution_count": 10,
     "metadata": {},
     "output_type": "execute_result"
    }
   ],
   "source": [
    "swap_tree = pd.DataFrame(np.array(b),columns=['Period_1'] )\n",
    "swap_tree.insert(0,'Period_0',swap_0)\n",
    "\n",
    "swap_tree.iloc[1,0] = 0\n",
    "\n",
    "swap_tree\n"
   ]
  },
  {
   "cell_type": "code",
   "execution_count": 11,
   "id": "9ab70364",
   "metadata": {},
   "outputs": [
    {
     "data": {
      "text/latex": [
       "$\\displaystyle 0.643025579052037$"
      ],
      "text/plain": [
       "0.643025579052037"
      ]
     },
     "execution_count": 11,
     "metadata": {},
     "output_type": "execute_result"
    }
   ],
   "source": [
    "P_UP = (swap_0-(swap_tree.iloc[1,1]))/(swap_tree.iloc[0,1]-(swap_tree.iloc[1,1]))\n",
    "P_UP"
   ]
  },
  {
   "attachments": {},
   "cell_type": "markdown",
   "id": "17b4c77a",
   "metadata": {},
   "source": [
    "- **Yes**, the probability is exactly the same as the risk-neutral probability of an interest rate increase at time = .5. "
   ]
  },
  {
   "attachments": {},
   "cell_type": "markdown",
   "id": "01496b24",
   "metadata": {},
   "source": [
    "## 2.3 | Pricing The Rate Option\n",
    "\n",
    "\n"
   ]
  },
  {
   "cell_type": "code",
   "execution_count": 12,
   "id": "2a036b2d",
   "metadata": {},
   "outputs": [
    {
     "data": {
      "text/plain": [
       "array([0.  , 1.05])"
      ]
     },
     "execution_count": 12,
     "metadata": {},
     "output_type": "execute_result"
    }
   ],
   "source": [
    "payoffs"
   ]
  },
  {
   "cell_type": "code",
   "execution_count": 13,
   "id": "775333f5",
   "metadata": {},
   "outputs": [
    {
     "data": {
      "text/latex": [
       "$\\displaystyle \\left[\\begin{matrix}0.00598155737704918\\\\-0.860655737704918\\end{matrix}\\right]$"
      ],
      "text/plain": [
       "Matrix([\n",
       "[0.00598155737704918],\n",
       "[ -0.860655737704918]])"
      ]
     },
     "execution_count": 13,
     "metadata": {},
     "output_type": "execute_result"
    }
   ],
   "source": [
    "A_ = sympy.Matrix([[100,.695],[100,-.525]])\n",
    "b_ = sympy.Matrix(payoffs)\n",
    "alpha_, beta_ = A_.solve(b_)\n",
    "A_.solve(b_)"
   ]
  },
  {
   "cell_type": "code",
   "execution_count": 14,
   "id": "4fad0bb9",
   "metadata": {},
   "outputs": [
    {
     "data": {
      "text/html": [
       "<style type=\"text/css\">\n",
       "</style>\n",
       "<table id=\"T_c92c7\">\n",
       "  <thead>\n",
       "    <tr>\n",
       "      <th class=\"blank level0\" >&nbsp;</th>\n",
       "      <th id=\"T_c92c7_level0_col0\" class=\"col_heading level0 col0\" >price</th>\n",
       "      <th id=\"T_c92c7_level0_col1\" class=\"col_heading level0 col1\" >position</th>\n",
       "      <th id=\"T_c92c7_level0_col2\" class=\"col_heading level0 col2\" >$ holding</th>\n",
       "    </tr>\n",
       "  </thead>\n",
       "  <tbody>\n",
       "    <tr>\n",
       "      <th id=\"T_c92c7_level0_row0\" class=\"row_heading level0 row0\" >1-period bond</th>\n",
       "      <td id=\"T_c92c7_row0_col0\" class=\"data row0 col0\" >$99.1338</td>\n",
       "      <td id=\"T_c92c7_row0_col1\" class=\"data row0 col1\" >$0.0060</td>\n",
       "      <td id=\"T_c92c7_row0_col2\" class=\"data row0 col2\" >$0.5930</td>\n",
       "    </tr>\n",
       "    <tr>\n",
       "      <th id=\"T_c92c7_level0_row1\" class=\"row_heading level0 row1\" >2-period swap</th>\n",
       "      <td id=\"T_c92c7_row1_col0\" class=\"data row1 col0\" >$0.2595</td>\n",
       "      <td id=\"T_c92c7_row1_col1\" class=\"data row1 col1\" >$-0.8607</td>\n",
       "      <td id=\"T_c92c7_row1_col2\" class=\"data row1 col2\" >$-0.2233</td>\n",
       "    </tr>\n",
       "    <tr>\n",
       "      <th id=\"T_c92c7_level0_row2\" class=\"row_heading level0 row2\" >net</th>\n",
       "      <td id=\"T_c92c7_row2_col0\" class=\"data row2 col0\" >$nan</td>\n",
       "      <td id=\"T_c92c7_row2_col1\" class=\"data row2 col1\" >$nan</td>\n",
       "      <td id=\"T_c92c7_row2_col2\" class=\"data row2 col2\" >$0.3696</td>\n",
       "    </tr>\n",
       "  </tbody>\n",
       "</table>\n"
      ],
      "text/plain": [
       "<pandas.io.formats.style.Styler at 0x19c96358700>"
      ]
     },
     "execution_count": 14,
     "metadata": {},
     "output_type": "execute_result"
    }
   ],
   "source": [
    "position = pd.DataFrame(index=['1-period bond','2-period swap'],columns=['price','position','$ holding'],dtype=float)\n",
    "\n",
    "position.loc['1-period bond','price'] = term_struct.iloc[0,0]\n",
    "position.loc['2-period swap','price'] = swap_0\n",
    "position['position'] = [alpha_,beta_]\n",
    "position['$ holding'] = position['price']*position['position']\n",
    "position.loc['net','$ holding'] = position['$ holding'].sum()\n",
    "position.style.format('${:,.4f}')"
   ]
  },
  {
   "attachments": {},
   "cell_type": "markdown",
   "id": "b419f482",
   "metadata": {},
   "source": [
    "- **Yes** the price of the interest rate floor price is the same as we calculated in workbook 1.\n",
    "\n",
    "**Answer** The price of the interest rate floor is $\\$0.3696$."
   ]
  },
  {
   "cell_type": "markdown",
   "id": "87504311",
   "metadata": {},
   "source": [
    "# 3. Pricing a Call on a Bond\n",
    "\n",
    "Try using the same tree to price a call on the period-2 bond, (1-year), at period 1 (6-months).\n",
    "* Payoff = $\\max(P_{1|2}-K,0)$\n",
    "* Strike = \\$99.00\n",
    "\n",
    "### 3.1 \n",
    "What is the replicating trade using the two bonds (period 1 and period 2) as above? (That is, we are no longer using the swap as the underlying.)\n",
    "\n",
    "### 3.2 \n",
    "What is the price of the European call option? \n",
    "* expiring at $T=.5$ \n",
    "* written on the bond maturing in 2 periods, ($t=1$)"
   ]
  },
  {
   "cell_type": "code",
   "execution_count": 15,
   "id": "a035e7e8",
   "metadata": {},
   "outputs": [
    {
     "data": {
      "text/html": [
       "<div>\n",
       "<style scoped>\n",
       "    .dataframe tbody tr th:only-of-type {\n",
       "        vertical-align: middle;\n",
       "    }\n",
       "\n",
       "    .dataframe tbody tr th {\n",
       "        vertical-align: top;\n",
       "    }\n",
       "\n",
       "    .dataframe thead th {\n",
       "        text-align: right;\n",
       "    }\n",
       "</style>\n",
       "<table border=\"1\" class=\"dataframe\">\n",
       "  <thead>\n",
       "    <tr style=\"text-align: right;\">\n",
       "      <th></th>\n",
       "      <th>Period_0</th>\n",
       "      <th>Period_1</th>\n",
       "      <th>Period_2</th>\n",
       "    </tr>\n",
       "  </thead>\n",
       "  <tbody>\n",
       "    <tr>\n",
       "      <th>0</th>\n",
       "      <td>97.8925</td>\n",
       "      <td>98.319284</td>\n",
       "      <td>100</td>\n",
       "    </tr>\n",
       "    <tr>\n",
       "      <th>1</th>\n",
       "      <td>0.0000</td>\n",
       "      <td>99.526126</td>\n",
       "      <td>100</td>\n",
       "    </tr>\n",
       "  </tbody>\n",
       "</table>\n",
       "</div>"
      ],
      "text/plain": [
       "   Period_0   Period_1  Period_2\n",
       "0   97.8925  98.319284       100\n",
       "1    0.0000  99.526126       100"
      ]
     },
     "execution_count": 15,
     "metadata": {},
     "output_type": "execute_result"
    }
   ],
   "source": [
    "P_df"
   ]
  },
  {
   "cell_type": "code",
   "execution_count": 16,
   "id": "deb0357e",
   "metadata": {},
   "outputs": [],
   "source": [
    "K = 99\n",
    "payoffs_call = (P_df['Period_1'].values - K)\n",
    "payoffs_call[payoffs_call <0] = 0\n",
    "payoffs_call\n",
    "A_call = sympy.Matrix([[100,98.319284],[100,99.526126]])\n",
    "b_call = sympy.Matrix(payoffs_call)\n",
    "alpha_c, beta_c = A_call.solve(b_call)"
   ]
  },
  {
   "cell_type": "code",
   "execution_count": 17,
   "id": "1be9c3b0",
   "metadata": {},
   "outputs": [
    {
     "data": {
      "text/html": [
       "<style type=\"text/css\">\n",
       "</style>\n",
       "<table id=\"T_37ffd\">\n",
       "  <thead>\n",
       "    <tr>\n",
       "      <th class=\"blank level0\" >&nbsp;</th>\n",
       "      <th id=\"T_37ffd_level0_col0\" class=\"col_heading level0 col0\" >price</th>\n",
       "      <th id=\"T_37ffd_level0_col1\" class=\"col_heading level0 col1\" >position</th>\n",
       "      <th id=\"T_37ffd_level0_col2\" class=\"col_heading level0 col2\" >$ holding</th>\n",
       "    </tr>\n",
       "  </thead>\n",
       "  <tbody>\n",
       "    <tr>\n",
       "      <th id=\"T_37ffd_level0_row0\" class=\"row_heading level0 row0\" >1-period bond</th>\n",
       "      <td id=\"T_37ffd_row0_col0\" class=\"data row0 col0\" >$99.1338</td>\n",
       "      <td id=\"T_37ffd_row0_col1\" class=\"data row0 col1\" >$-0.4286</td>\n",
       "      <td id=\"T_37ffd_row0_col2\" class=\"data row0 col2\" >$-42.4913</td>\n",
       "    </tr>\n",
       "    <tr>\n",
       "      <th id=\"T_37ffd_level0_row1\" class=\"row_heading level0 row1\" >2-period bond</th>\n",
       "      <td id=\"T_37ffd_row1_col0\" class=\"data row1 col0\" >$97.8925</td>\n",
       "      <td id=\"T_37ffd_row1_col1\" class=\"data row1 col1\" >$0.4360</td>\n",
       "      <td id=\"T_37ffd_row1_col2\" class=\"data row1 col2\" >$42.6765</td>\n",
       "    </tr>\n",
       "    <tr>\n",
       "      <th id=\"T_37ffd_level0_row2\" class=\"row_heading level0 row2\" >net</th>\n",
       "      <td id=\"T_37ffd_row2_col0\" class=\"data row2 col0\" >$nan</td>\n",
       "      <td id=\"T_37ffd_row2_col1\" class=\"data row2 col1\" >$nan</td>\n",
       "      <td id=\"T_37ffd_row2_col2\" class=\"data row2 col2\" >$0.1852</td>\n",
       "    </tr>\n",
       "  </tbody>\n",
       "</table>\n"
      ],
      "text/plain": [
       "<pandas.io.formats.style.Styler at 0x19c900100a0>"
      ]
     },
     "execution_count": 17,
     "metadata": {},
     "output_type": "execute_result"
    }
   ],
   "source": [
    "position_call = pd.DataFrame(index=['1-period bond','2-period bond'],columns=['price','position','$ holding'],dtype=float)\n",
    "position_call['price'] = term_struct.iloc[0:2,0].values\n",
    "position_call[\"position\"] = [alpha_c,beta_c]\n",
    "position_call['$ holding'] = position_call['price']*position_call['position']\n",
    "position_call.loc['net','$ holding'] = position_call['$ holding'].sum()\n",
    "position_call.style.format('${:,.4f}')\n"
   ]
  },
  {
   "attachments": {},
   "cell_type": "markdown",
   "id": "2b083283",
   "metadata": {},
   "source": [
    "**Answer:** The price of the call is $\\$0.1852$."
   ]
  },
  {
   "cell_type": "markdown",
   "id": "6d76cdf8",
   "metadata": {},
   "source": [
    "# 4 Two-Period Tree\n",
    "\n",
    "Consider an expanded, **2 period** tree. (Two periods of uncertainty, so with the starting point, three periods total.)"
   ]
  },
  {
   "cell_type": "code",
   "execution_count": 18,
   "id": "69c01950",
   "metadata": {},
   "outputs": [
    {
     "data": {
      "text/html": [
       "<style type=\"text/css\">\n",
       "</style>\n",
       "<table id=\"T_c0543\">\n",
       "  <thead>\n",
       "    <tr>\n",
       "      <th class=\"index_name level0\" >time $t$</th>\n",
       "      <th id=\"T_c0543_level0_col0\" class=\"col_heading level0 col0\" >0</th>\n",
       "      <th id=\"T_c0543_level0_col1\" class=\"col_heading level0 col1\" >0.5</th>\n",
       "      <th id=\"T_c0543_level0_col2\" class=\"col_heading level0 col2\" >1</th>\n",
       "    </tr>\n",
       "    <tr>\n",
       "      <th class=\"index_name level0\" >node</th>\n",
       "      <th class=\"blank col0\" >&nbsp;</th>\n",
       "      <th class=\"blank col1\" >&nbsp;</th>\n",
       "      <th class=\"blank col2\" >&nbsp;</th>\n",
       "    </tr>\n",
       "  </thead>\n",
       "  <tbody>\n",
       "    <tr>\n",
       "      <th id=\"T_c0543_level0_row0\" class=\"row_heading level0 row0\" >0</th>\n",
       "      <td id=\"T_c0543_row0_col0\" class=\"data row0 col0\" >1.74%</td>\n",
       "      <td id=\"T_c0543_row0_col1\" class=\"data row0 col1\" >3.39%</td>\n",
       "      <td id=\"T_c0543_row0_col2\" class=\"data row0 col2\" >5.00%</td>\n",
       "    </tr>\n",
       "    <tr>\n",
       "      <th id=\"T_c0543_level0_row1\" class=\"row_heading level0 row1\" >1</th>\n",
       "      <td id=\"T_c0543_row1_col0\" class=\"data row1 col0\" ></td>\n",
       "      <td id=\"T_c0543_row1_col1\" class=\"data row1 col1\" >0.95%</td>\n",
       "      <td id=\"T_c0543_row1_col2\" class=\"data row1 col2\" >2.56%</td>\n",
       "    </tr>\n",
       "    <tr>\n",
       "      <th id=\"T_c0543_level0_row2\" class=\"row_heading level0 row2\" >2</th>\n",
       "      <td id=\"T_c0543_row2_col0\" class=\"data row2 col0\" ></td>\n",
       "      <td id=\"T_c0543_row2_col1\" class=\"data row2 col1\" ></td>\n",
       "      <td id=\"T_c0543_row2_col2\" class=\"data row2 col2\" >0.11%</td>\n",
       "    </tr>\n",
       "  </tbody>\n",
       "</table>\n"
      ],
      "text/plain": [
       "<pandas.io.formats.style.Styler at 0x19c964e8a90>"
      ]
     },
     "execution_count": 18,
     "metadata": {},
     "output_type": "execute_result"
    }
   ],
   "source": [
    "new_col = pd.Series([.05,.0256,.0011],name='1')\n",
    "rate_tree_multi = pd.concat([rate_tree,new_col],ignore_index=True,axis=1)\n",
    "rate_tree_multi.columns = pd.Series(['0','0.5','1'],name='time $t$')\n",
    "rate_tree_multi.index.name = 'node'\n",
    "rate_tree_multi.style.format('{:.2%}',na_rep='')"
   ]
  },
  {
   "cell_type": "markdown",
   "id": "5a09b0d9",
   "metadata": {},
   "source": [
    "### 4.1\n",
    "\n",
    "Calculate and show the tree of prices for the 3-period bond, $T=1.5$.\n",
    "\n",
    "### 4.2\n",
    "Report the risk-neutral probability of an up movement at $t=1$.\n",
    "\n",
    "(The risk-neutral probability of an up movement at $t=0.5$ continues to be as you calculated in 2.3.\n",
    "\n",
    "### 4.3\n",
    "Calculate the price of the European **call** option?\n",
    "* expiring at $T=1$ \n",
    "* written on the bond maturing in 3 periods, ($t=1.5$)\n",
    "\n",
    "### 4.4\n",
    "Consider a finer time grid. Let $dt$ in the tree now be 1/30 instead of 0.5.\n",
    "\n",
    "Using this smaller time step, compute the $t=0$ price of the following option:\n",
    "* option expires at $t=1$\n",
    "* written on bond maturing at $t=1.5"
   ]
  },
  {
   "cell_type": "code",
   "execution_count": 87,
   "id": "9bbeea6b",
   "metadata": {},
   "outputs": [],
   "source": [
    "# 4.1\n",
    "P_2p = P_df[['Period_1']]\n",
    "P_2p.insert(0,'Period_0',96.1462)\n",
    "P_2p.iloc[1,0] = 0\n",
    "P_2p.loc[0,'Period_2'] = 100*np.exp(-0.05*dt)\n",
    "P_2p.loc[1,'Period_2'] = 100*np.exp(-.0256*dt)\n",
    "P_2p.loc[2,'Period_2'] = 100*np.exp(-.0011*dt)\n",
    "P_2p['Period_3'] = 100\n",
    "P_2p = P_2p.fillna(0)\n"
   ]
  },
  {
   "cell_type": "code",
   "execution_count": 97,
   "id": "a6b33bbb",
   "metadata": {},
   "outputs": [
    {
     "name": "stdout",
     "output_type": "stream",
     "text": [
      "The probability of an up movement at t = 1 is equal to 0.413481895315208\n"
     ]
    }
   ],
   "source": [
    "P_UP\n",
    "P_up_sq = np.array((P_UP**2))\n",
    "P_D = 1-P_UP\n",
    "P_dd = np.array(P_D**2)\n",
    "P_u_d = 1-(P_up_sq)\n",
    "P_d_u = 1-(P_dd)\n",
    "\n",
    "print(f'The probability of an up movement at t = 1 is equal to {P_up_sq}')\n",
    "\n"
   ]
  },
  {
   "cell_type": "code",
   "execution_count": 107,
   "id": "8fb2ceb2",
   "metadata": {},
   "outputs": [
    {
     "data": {
      "text/latex": [
       "$\\displaystyle 0.120423958125579$"
      ],
      "text/plain": [
       "0.120423958125579"
      ]
     },
     "execution_count": 107,
     "metadata": {},
     "output_type": "execute_result"
    }
   ],
   "source": [
    "Option_period1 =  P_dd*(0.945015)\n",
    "Option_period1"
   ]
  },
  {
   "cell_type": "code",
   "execution_count": 109,
   "id": "679645f4",
   "metadata": {},
   "outputs": [
    {
     "data": {
      "text/latex": [
       "$\\displaystyle 0.0429882727201404$"
      ],
      "text/plain": [
       "0.0429882727201404"
      ]
     },
     "execution_count": 109,
     "metadata": {},
     "output_type": "execute_result"
    }
   ],
   "source": [
    "Option_0 = P_UP*(0) + P_D *Option_period1\n",
    "Option_0"
   ]
  },
  {
   "cell_type": "code",
   "execution_count": 88,
   "id": "50cc09cc",
   "metadata": {},
   "outputs": [
    {
     "data": {
      "text/html": [
       "<div>\n",
       "<style scoped>\n",
       "    .dataframe tbody tr th:only-of-type {\n",
       "        vertical-align: middle;\n",
       "    }\n",
       "\n",
       "    .dataframe tbody tr th {\n",
       "        vertical-align: top;\n",
       "    }\n",
       "\n",
       "    .dataframe thead th {\n",
       "        text-align: right;\n",
       "    }\n",
       "</style>\n",
       "<table border=\"1\" class=\"dataframe\">\n",
       "  <thead>\n",
       "    <tr style=\"text-align: right;\">\n",
       "      <th></th>\n",
       "      <th>Period_0</th>\n",
       "      <th>Period_1</th>\n",
       "      <th>Period_2</th>\n",
       "      <th>Period_3</th>\n",
       "    </tr>\n",
       "  </thead>\n",
       "  <tbody>\n",
       "    <tr>\n",
       "      <th>0</th>\n",
       "      <td>96.1462</td>\n",
       "      <td>98.319284</td>\n",
       "      <td>0.000000</td>\n",
       "      <td>100</td>\n",
       "    </tr>\n",
       "    <tr>\n",
       "      <th>1</th>\n",
       "      <td>0.0000</td>\n",
       "      <td>99.526126</td>\n",
       "      <td>0.000000</td>\n",
       "      <td>100</td>\n",
       "    </tr>\n",
       "    <tr>\n",
       "      <th>2</th>\n",
       "      <td>0.0000</td>\n",
       "      <td>0.000000</td>\n",
       "      <td>0.945015</td>\n",
       "      <td>100</td>\n",
       "    </tr>\n",
       "  </tbody>\n",
       "</table>\n",
       "</div>"
      ],
      "text/plain": [
       "   Period_0   Period_1  Period_2  Period_3\n",
       "0   96.1462  98.319284  0.000000       100\n",
       "1    0.0000  99.526126  0.000000       100\n",
       "2    0.0000   0.000000  0.945015       100"
      ]
     },
     "execution_count": 88,
     "metadata": {},
     "output_type": "execute_result"
    }
   ],
   "source": [
    "P_2p['Period_2'] = P_2p['Period_2']-99\n",
    "P_2p[P_2p <0 ] = 0\n",
    "P_2p"
   ]
  },
  {
   "cell_type": "code",
   "execution_count": 111,
   "id": "f363bbd6",
   "metadata": {},
   "outputs": [
    {
     "name": "stdout",
     "output_type": "stream",
     "text": [
      "The price of the two-period option is $0.0429882727201404\n"
     ]
    }
   ],
   "source": [
    "print(f'The price of the two-period option is ${Option_0}')"
   ]
  },
  {
   "cell_type": "markdown",
   "id": "b97ca9c0",
   "metadata": {},
   "source": [
    "# 5 American Style\n",
    "### 5.1\n",
    "Use the two-period tree from part 4, but this time to price an American-style **put** option.\n",
    "\n",
    "Use a grid of $dt=.5$.\n",
    "* What is its value at $t=0$?\n",
    "* Which nodes would you exercise it early?\n",
    "\n",
    "### 5.2\n",
    "Change the grid to $dt=1/30$, as in 4.4. \n",
    "* What is its value at $t=0$?\n",
    "* Make a visualization showing which nodes have early exercise. (I suggest using a dataframe and the `heatmap` from `seaborn`."
   ]
  }
 ],
 "metadata": {
  "hide_input": true,
  "kernelspec": {
   "display_name": "Python 3 (ipykernel)",
   "language": "python",
   "name": "python3"
  },
  "language_info": {
   "codemirror_mode": {
    "name": "ipython",
    "version": 3
   },
   "file_extension": ".py",
   "mimetype": "text/x-python",
   "name": "python",
   "nbconvert_exporter": "python",
   "pygments_lexer": "ipython3",
   "version": "3.9.13"
  }
 },
 "nbformat": 4,
 "nbformat_minor": 5
}
