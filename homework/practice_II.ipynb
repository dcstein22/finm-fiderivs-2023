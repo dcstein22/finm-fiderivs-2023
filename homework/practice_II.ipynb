{
 "cells": [
  {
   "attachments": {},
   "cell_type": "markdown",
   "metadata": {},
   "source": [
    "# Fixed Income Derivatives Practice Problems and Notes"
   ]
  },
  {
   "cell_type": "code",
   "execution_count": 2,
   "metadata": {},
   "outputs": [],
   "source": [
    "import pandas as pd\n",
    "import numpy as np\n",
    "from Binomial_Fixed import binomial, ratecurves\n",
    "from Binomial_Fixed import treasury_cmds\n",
    "from treasury_cmds import *\n",
    "import scipy\n",
    "from scipy.optimize import fsolve\n",
    "from scipy.stats import norm\n",
    "from datetime import date\n",
    "import datetime as dt\n",
    "import matplotlib.pyplot as plt\n",
    "import matplotlib as mpl\n",
    "import datetime as dt\n",
    "plt.style.use('seaborn')\n",
    "mpl.rcParams['font.family'] = 'serif'"
   ]
  },
  {
   "attachments": {},
   "cell_type": "markdown",
   "metadata": {},
   "source": [
    "It is July 30, 2015. The cheapest-to-deliver bond in a September 2015 Treasury bond futures contract is a 13% coupon bond, and delivery is expected to be made on September 30, 2015. Coupon payments on the bond are made on February 4 and August 4 each year. The term structure is flat, and the rate of interest with semiannual compounding is 12% per annum. The conversion factor for the bond is 1.5. The current quoted bond price is $110. Calculate the quoted futures price for the contract. Explain."
   ]
  },
  {
   "cell_type": "code",
   "execution_count": 71,
   "metadata": {},
   "outputs": [
    {
     "data": {
      "text/plain": [
       "str"
      ]
     },
     "execution_count": 71,
     "metadata": {},
     "output_type": "execute_result"
    }
   ],
   "source": [
    "type('d')"
   ]
  },
  {
   "cell_type": "code",
   "execution_count": 74,
   "metadata": {},
   "outputs": [],
   "source": [
    "def convert_dt(date):\n",
    "    if type(date) != str:\n",
    "        return date\n",
    "    else:\n",
    "\n",
    "        return pd.to_datetime(date)"
   ]
  },
  {
   "cell_type": "code",
   "execution_count": 26,
   "metadata": {},
   "outputs": [
    {
     "data": {
      "text/plain": [
       "139"
      ]
     },
     "execution_count": 26,
     "metadata": {},
     "output_type": "execute_result"
    }
   ],
   "source": [
    "(convert_dt(\"2015-01-01\")-convert_dt(\"2014-08-15\")).days"
   ]
  },
  {
   "cell_type": "code",
   "execution_count": 33,
   "metadata": {},
   "outputs": [
    {
     "data": {
      "text/plain": [
       "Timestamp('2016-02-04 00:00:00')"
      ]
     },
     "execution_count": 33,
     "metadata": {},
     "output_type": "execute_result"
    }
   ],
   "source": [
    "cpdate1 + pd.DateOffset(months=6)"
   ]
  },
  {
   "cell_type": "code",
   "execution_count": 116,
   "metadata": {},
   "outputs": [],
   "source": [
    "p0 = 110\n",
    "conversion = 1.5\n",
    "repo = 2*np.log(1.06)\n",
    "cpn = .13/2\n",
    "date_0 = dt.date(2015,7,30)\n",
    "cpdate = dt.date(2015,2,4)\n",
    "cpdate1 = dt.date(2015,8,4)\n",
    "delivery_dt = dt.date(2015,9,30)\n",
    "period  = (cpdate1-cpdate).days\n",
    "accint = ((date_0-cpdate).days/period)*(cpn)*100\n",
    "cash_price =p0+accint\n",
    "cash_price\n",
    "cpdate1-date_0\n",
    "\n",
    "def futures_price(clean_price, repo,cpn,curr_date, cpn_date0,cpn_date1,conversion,delivery_date):\n",
    "    curr_date = convert_dt(curr_date)\n",
    "    cpn_date0 = convert_dt(cpn_date0)\n",
    "    cpn_date1 = convert_dt(cpn_date1)\n",
    "    if cpn >.90:\n",
    "        cpn = cpn*(1/100)\n",
    "    else:\n",
    "        cpn = cpn\n",
    "    delivery_date = convert_dt(delivery_date)\n",
    "    accint = ((curr_date-cpn_date0).days/(cpn_date1-cpn_date0).days)*(cpn*100)\n",
    "    dirty_price = clean_price+accint\n",
    "    I = cpn*100*(np.exp(-repo*(cpn_date1-curr_date).days/365))\n",
    "    DTD = (delivery_date-curr_date).days/(365)\n",
    "    discount = np.exp(repo*DTD)\n",
    "    accrued_int = 100*cpn*((delivery_date-cpn_date1).days/((cpn_date1+pd.DateOffset(months = 6))-cpn_date1).days)\n",
    "    F0 = (dirty_price-I)*discount - accrued_int\n",
    "\n",
    "    return F0/conversion\n",
    "\n",
    "def forward_price(clean_price, repo,cpn,curr_date,days_accrued,cpn_date1,delivery_date):\n",
    "    curr_date = convert_dt(curr_date)\n",
    "    cpn_date0 = curr_date - dt.timedelta(days = days_accrued)\n",
    "    cpn_date1 = convert_dt(cpn_date1)\n",
    "    delivery_date = convert_dt(delivery_date)\n",
    "\n",
    "    repo = repo/100\n",
    "    cpn = cpn*(1/2)\n",
    "\n",
    "    accint = ((curr_date-cpn_date0).days/(cpn_date1-cpn_date0).days)*(cpn)\n",
    "    dirty_price = clean_price+accint \n",
    "\n",
    "    I = cpn*(np.exp(-repo*(cpn_date1-curr_date).days/360))\n",
    "    DTD = (delivery_date-curr_date).days/(360)\n",
    "    discount = np.exp(repo*DTD)\n",
    "    accrued_int = cpn*((delivery_date-cpn_date1).days/((cpn_date1+pd.DateOffset(months = 6))-cpn_date1).days)\n",
    "    F0 = (dirty_price-cpn)*discount - accrued_int\n",
    "\n",
    "    return F0\n",
    "\n",
    "\n",
    "\n"
   ]
  },
  {
   "cell_type": "code",
   "execution_count": 88,
   "metadata": {},
   "outputs": [
    {
     "data": {
      "text/html": [
       "<div>\n",
       "<style scoped>\n",
       "    .dataframe tbody tr th:only-of-type {\n",
       "        vertical-align: middle;\n",
       "    }\n",
       "\n",
       "    .dataframe tbody tr th {\n",
       "        vertical-align: top;\n",
       "    }\n",
       "\n",
       "    .dataframe thead th {\n",
       "        text-align: right;\n",
       "    }\n",
       "</style>\n",
       "<table border=\"1\" class=\"dataframe\">\n",
       "  <thead>\n",
       "    <tr style=\"text-align: right;\">\n",
       "      <th></th>\n",
       "      <th>ticker</th>\n",
       "      <th>last_update_dt</th>\n",
       "      <th>px_last</th>\n",
       "      <th>maturity</th>\n",
       "      <th>days_to_mty</th>\n",
       "      <th>cpn</th>\n",
       "      <th>nxt_cpn_dt</th>\n",
       "      <th>days_to_next_coupon</th>\n",
       "      <th>int_acc</th>\n",
       "      <th>accrued_days_between_cpn_dates</th>\n",
       "      <th>days_acc</th>\n",
       "      <th>basis_mid</th>\n",
       "      <th>repo_implied_reporate</th>\n",
       "      <th>repo_reporate</th>\n",
       "      <th>conversion</th>\n",
       "    </tr>\n",
       "  </thead>\n",
       "  <tbody>\n",
       "    <tr>\n",
       "      <th>0</th>\n",
       "      <td>91282CFZ Govt</td>\n",
       "      <td>2023-04-21</td>\n",
       "      <td>100.757812</td>\n",
       "      <td>2027-11-30</td>\n",
       "      <td>1681</td>\n",
       "      <td>3.875</td>\n",
       "      <td>2023-05-31</td>\n",
       "      <td>37</td>\n",
       "      <td>1.543613</td>\n",
       "      <td>182</td>\n",
       "      <td>145</td>\n",
       "      <td>13.138350</td>\n",
       "      <td>3.619994</td>\n",
       "      <td>4.815</td>\n",
       "      <td>0.9226</td>\n",
       "    </tr>\n",
       "    <tr>\n",
       "      <th>1</th>\n",
       "      <td>91282CGC Govt</td>\n",
       "      <td>2023-04-21</td>\n",
       "      <td>100.750000</td>\n",
       "      <td>2027-12-31</td>\n",
       "      <td>1712</td>\n",
       "      <td>3.875</td>\n",
       "      <td>2023-06-30</td>\n",
       "      <td>67</td>\n",
       "      <td>1.220304</td>\n",
       "      <td>181</td>\n",
       "      <td>114</td>\n",
       "      <td>17.307175</td>\n",
       "      <td>3.644369</td>\n",
       "      <td>4.815</td>\n",
       "      <td>0.9212</td>\n",
       "    </tr>\n",
       "    <tr>\n",
       "      <th>2</th>\n",
       "      <td>91282CGH Govt</td>\n",
       "      <td>2023-04-21</td>\n",
       "      <td>99.195312</td>\n",
       "      <td>2028-01-31</td>\n",
       "      <td>1743</td>\n",
       "      <td>3.500</td>\n",
       "      <td>2023-07-31</td>\n",
       "      <td>98</td>\n",
       "      <td>0.802486</td>\n",
       "      <td>181</td>\n",
       "      <td>83</td>\n",
       "      <td>24.180222</td>\n",
       "      <td>3.631045</td>\n",
       "      <td>4.815</td>\n",
       "      <td>0.9058</td>\n",
       "    </tr>\n",
       "    <tr>\n",
       "      <th>3</th>\n",
       "      <td>91282CGP Govt</td>\n",
       "      <td>2023-04-21</td>\n",
       "      <td>101.484375</td>\n",
       "      <td>2028-02-29</td>\n",
       "      <td>1772</td>\n",
       "      <td>4.000</td>\n",
       "      <td>2023-08-31</td>\n",
       "      <td>129</td>\n",
       "      <td>0.597826</td>\n",
       "      <td>184</td>\n",
       "      <td>55</td>\n",
       "      <td>32.893100</td>\n",
       "      <td>3.550495</td>\n",
       "      <td>4.815</td>\n",
       "      <td>0.9234</td>\n",
       "    </tr>\n",
       "    <tr>\n",
       "      <th>4</th>\n",
       "      <td>91282CGT Govt</td>\n",
       "      <td>2023-04-21</td>\n",
       "      <td>99.828125</td>\n",
       "      <td>2028-03-31</td>\n",
       "      <td>1803</td>\n",
       "      <td>3.625</td>\n",
       "      <td>2023-09-30</td>\n",
       "      <td>159</td>\n",
       "      <td>0.237705</td>\n",
       "      <td>183</td>\n",
       "      <td>24</td>\n",
       "      <td>38.039247</td>\n",
       "      <td>3.570506</td>\n",
       "      <td>4.815</td>\n",
       "      <td>0.9075</td>\n",
       "    </tr>\n",
       "  </tbody>\n",
       "</table>\n",
       "</div>"
      ],
      "text/plain": [
       "          ticker last_update_dt     px_last   maturity  days_to_mty    cpn  \\\n",
       "0  91282CFZ Govt     2023-04-21  100.757812 2027-11-30         1681  3.875   \n",
       "1  91282CGC Govt     2023-04-21  100.750000 2027-12-31         1712  3.875   \n",
       "2  91282CGH Govt     2023-04-21   99.195312 2028-01-31         1743  3.500   \n",
       "3  91282CGP Govt     2023-04-21  101.484375 2028-02-29         1772  4.000   \n",
       "4  91282CGT Govt     2023-04-21   99.828125 2028-03-31         1803  3.625   \n",
       "\n",
       "  nxt_cpn_dt  days_to_next_coupon   int_acc  accrued_days_between_cpn_dates  \\\n",
       "0 2023-05-31                   37  1.543613                             182   \n",
       "1 2023-06-30                   67  1.220304                             181   \n",
       "2 2023-07-31                   98  0.802486                             181   \n",
       "3 2023-08-31                  129  0.597826                             184   \n",
       "4 2023-09-30                  159  0.237705                             183   \n",
       "\n",
       "   days_acc  basis_mid  repo_implied_reporate  repo_reporate  conversion  \n",
       "0       145  13.138350               3.619994          4.815      0.9226  \n",
       "1       114  17.307175               3.644369          4.815      0.9212  \n",
       "2        83  24.180222               3.631045          4.815      0.9058  \n",
       "3        55  32.893100               3.550495          4.815      0.9234  \n",
       "4        24  38.039247               3.570506          4.815      0.9075  "
      ]
     },
     "execution_count": 88,
     "metadata": {},
     "output_type": "execute_result"
    }
   ],
   "source": [
    "bond_info"
   ]
  },
  {
   "cell_type": "code",
   "execution_count": 64,
   "metadata": {},
   "outputs": [],
   "source": [
    "future_bonds = 'C:/Users/dcste/OneDrive/Fixed_Income_Derivatives/finm-fiderivs-2023/data/fut_bond_data_FVU3_2023-04-21.xlsx'\n",
    "bdt_path = 'C:/Users/dcste/OneDrive/Fixed_Income_Derivatives/finm-fiderivs-2023/data/bdt_params_freq52_2023-04-21.xlsx'\n",
    "future_description = pd.read_excel(future_bonds, sheet_name='future')\n",
    "bond_info = pd.read_excel(future_bonds,sheet_name='bonds')\n",
    "bdt_params = pd.read_excel(bdt_path)\n",
    "Future_Price = future_description.iloc[1,1]\n"
   ]
  },
  {
   "cell_type": "code",
   "execution_count": 69,
   "metadata": {},
   "outputs": [
    {
     "data": {
      "text/html": [
       "<div>\n",
       "<style scoped>\n",
       "    .dataframe tbody tr th:only-of-type {\n",
       "        vertical-align: middle;\n",
       "    }\n",
       "\n",
       "    .dataframe tbody tr th {\n",
       "        vertical-align: top;\n",
       "    }\n",
       "\n",
       "    .dataframe thead th {\n",
       "        text-align: right;\n",
       "    }\n",
       "</style>\n",
       "<table border=\"1\" class=\"dataframe\">\n",
       "  <thead>\n",
       "    <tr style=\"text-align: right;\">\n",
       "      <th></th>\n",
       "      <th>field</th>\n",
       "      <th>FVU3 Comdty</th>\n",
       "    </tr>\n",
       "  </thead>\n",
       "  <tbody>\n",
       "    <tr>\n",
       "      <th>0</th>\n",
       "      <td>last_update_dt</td>\n",
       "      <td>2023-04-21 00:00:00</td>\n",
       "    </tr>\n",
       "    <tr>\n",
       "      <th>1</th>\n",
       "      <td>px_last</td>\n",
       "      <td>109.789062</td>\n",
       "    </tr>\n",
       "    <tr>\n",
       "      <th>2</th>\n",
       "      <td>last_tradeable_dt</td>\n",
       "      <td>2023-09-29 00:00:00</td>\n",
       "    </tr>\n",
       "    <tr>\n",
       "      <th>3</th>\n",
       "      <td>fut_dlv_dt_last</td>\n",
       "      <td>2023-10-04 00:00:00</td>\n",
       "    </tr>\n",
       "    <tr>\n",
       "      <th>4</th>\n",
       "      <td>fut_days_expire</td>\n",
       "      <td>159</td>\n",
       "    </tr>\n",
       "    <tr>\n",
       "      <th>5</th>\n",
       "      <td>fut_ctd</td>\n",
       "      <td>T 3.875 11/30/27</td>\n",
       "    </tr>\n",
       "    <tr>\n",
       "      <th>6</th>\n",
       "      <td>fut_ctd_px</td>\n",
       "      <td>100.757812</td>\n",
       "    </tr>\n",
       "    <tr>\n",
       "      <th>7</th>\n",
       "      <td>fut_ctd_gross_basis</td>\n",
       "      <td>-17.074348</td>\n",
       "    </tr>\n",
       "    <tr>\n",
       "      <th>8</th>\n",
       "      <td>fut_ctd_net_basis</td>\n",
       "      <td>1.199828</td>\n",
       "    </tr>\n",
       "  </tbody>\n",
       "</table>\n",
       "</div>"
      ],
      "text/plain": [
       "                 field          FVU3 Comdty\n",
       "0       last_update_dt  2023-04-21 00:00:00\n",
       "1              px_last           109.789062\n",
       "2    last_tradeable_dt  2023-09-29 00:00:00\n",
       "3      fut_dlv_dt_last  2023-10-04 00:00:00\n",
       "4      fut_days_expire                  159\n",
       "5              fut_ctd     T 3.875 11/30/27\n",
       "6           fut_ctd_px           100.757812\n",
       "7  fut_ctd_gross_basis           -17.074348\n",
       "8    fut_ctd_net_basis             1.199828"
      ]
     },
     "execution_count": 69,
     "metadata": {},
     "output_type": "execute_result"
    }
   ],
   "source": [
    "future_description"
   ]
  },
  {
   "cell_type": "code",
   "execution_count": 67,
   "metadata": {},
   "outputs": [],
   "source": [
    "DATE = '2023-04-21'\n",
    "FUT_DAYS_EXPIRE = 159"
   ]
  },
  {
   "cell_type": "code",
   "execution_count": 70,
   "metadata": {},
   "outputs": [],
   "source": [
    "Future_Expiration = convert_dt(DATE) +dt.timedelta(159)"
   ]
  },
  {
   "cell_type": "code",
   "execution_count": 100,
   "metadata": {},
   "outputs": [
    {
     "data": {
      "text/html": [
       "<div>\n",
       "<style scoped>\n",
       "    .dataframe tbody tr th:only-of-type {\n",
       "        vertical-align: middle;\n",
       "    }\n",
       "\n",
       "    .dataframe tbody tr th {\n",
       "        vertical-align: top;\n",
       "    }\n",
       "\n",
       "    .dataframe thead th {\n",
       "        text-align: right;\n",
       "    }\n",
       "</style>\n",
       "<table border=\"1\" class=\"dataframe\">\n",
       "  <thead>\n",
       "    <tr style=\"text-align: right;\">\n",
       "      <th></th>\n",
       "      <th>ticker</th>\n",
       "      <th>last_update_dt</th>\n",
       "      <th>px_last</th>\n",
       "      <th>maturity</th>\n",
       "      <th>days_to_mty</th>\n",
       "      <th>cpn</th>\n",
       "      <th>nxt_cpn_dt</th>\n",
       "      <th>days_to_next_coupon</th>\n",
       "      <th>int_acc</th>\n",
       "      <th>accrued_days_between_cpn_dates</th>\n",
       "      <th>days_acc</th>\n",
       "      <th>basis_mid</th>\n",
       "      <th>repo_implied_reporate</th>\n",
       "      <th>repo_reporate</th>\n",
       "      <th>conversion</th>\n",
       "    </tr>\n",
       "  </thead>\n",
       "  <tbody>\n",
       "    <tr>\n",
       "      <th>0</th>\n",
       "      <td>91282CFZ Govt</td>\n",
       "      <td>2023-04-21</td>\n",
       "      <td>100.757812</td>\n",
       "      <td>2027-11-30</td>\n",
       "      <td>1681</td>\n",
       "      <td>3.875</td>\n",
       "      <td>2023-05-31</td>\n",
       "      <td>37</td>\n",
       "      <td>1.543613</td>\n",
       "      <td>182</td>\n",
       "      <td>145</td>\n",
       "      <td>13.138350</td>\n",
       "      <td>3.619994</td>\n",
       "      <td>4.815</td>\n",
       "      <td>0.9226</td>\n",
       "    </tr>\n",
       "    <tr>\n",
       "      <th>1</th>\n",
       "      <td>91282CGC Govt</td>\n",
       "      <td>2023-04-21</td>\n",
       "      <td>100.750000</td>\n",
       "      <td>2027-12-31</td>\n",
       "      <td>1712</td>\n",
       "      <td>3.875</td>\n",
       "      <td>2023-06-30</td>\n",
       "      <td>67</td>\n",
       "      <td>1.220304</td>\n",
       "      <td>181</td>\n",
       "      <td>114</td>\n",
       "      <td>17.307175</td>\n",
       "      <td>3.644369</td>\n",
       "      <td>4.815</td>\n",
       "      <td>0.9212</td>\n",
       "    </tr>\n",
       "    <tr>\n",
       "      <th>2</th>\n",
       "      <td>91282CGH Govt</td>\n",
       "      <td>2023-04-21</td>\n",
       "      <td>99.195312</td>\n",
       "      <td>2028-01-31</td>\n",
       "      <td>1743</td>\n",
       "      <td>3.500</td>\n",
       "      <td>2023-07-31</td>\n",
       "      <td>98</td>\n",
       "      <td>0.802486</td>\n",
       "      <td>181</td>\n",
       "      <td>83</td>\n",
       "      <td>24.180222</td>\n",
       "      <td>3.631045</td>\n",
       "      <td>4.815</td>\n",
       "      <td>0.9058</td>\n",
       "    </tr>\n",
       "    <tr>\n",
       "      <th>3</th>\n",
       "      <td>91282CGP Govt</td>\n",
       "      <td>2023-04-21</td>\n",
       "      <td>101.484375</td>\n",
       "      <td>2028-02-29</td>\n",
       "      <td>1772</td>\n",
       "      <td>4.000</td>\n",
       "      <td>2023-08-31</td>\n",
       "      <td>129</td>\n",
       "      <td>0.597826</td>\n",
       "      <td>184</td>\n",
       "      <td>55</td>\n",
       "      <td>32.893100</td>\n",
       "      <td>3.550495</td>\n",
       "      <td>4.815</td>\n",
       "      <td>0.9234</td>\n",
       "    </tr>\n",
       "    <tr>\n",
       "      <th>4</th>\n",
       "      <td>91282CGT Govt</td>\n",
       "      <td>2023-04-21</td>\n",
       "      <td>99.828125</td>\n",
       "      <td>2028-03-31</td>\n",
       "      <td>1803</td>\n",
       "      <td>3.625</td>\n",
       "      <td>2023-09-30</td>\n",
       "      <td>159</td>\n",
       "      <td>0.237705</td>\n",
       "      <td>183</td>\n",
       "      <td>24</td>\n",
       "      <td>38.039247</td>\n",
       "      <td>3.570506</td>\n",
       "      <td>4.815</td>\n",
       "      <td>0.9075</td>\n",
       "    </tr>\n",
       "  </tbody>\n",
       "</table>\n",
       "</div>"
      ],
      "text/plain": [
       "          ticker last_update_dt     px_last   maturity  days_to_mty    cpn  \\\n",
       "0  91282CFZ Govt     2023-04-21  100.757812 2027-11-30         1681  3.875   \n",
       "1  91282CGC Govt     2023-04-21  100.750000 2027-12-31         1712  3.875   \n",
       "2  91282CGH Govt     2023-04-21   99.195312 2028-01-31         1743  3.500   \n",
       "3  91282CGP Govt     2023-04-21  101.484375 2028-02-29         1772  4.000   \n",
       "4  91282CGT Govt     2023-04-21   99.828125 2028-03-31         1803  3.625   \n",
       "\n",
       "  nxt_cpn_dt  days_to_next_coupon   int_acc  accrued_days_between_cpn_dates  \\\n",
       "0 2023-05-31                   37  1.543613                             182   \n",
       "1 2023-06-30                   67  1.220304                             181   \n",
       "2 2023-07-31                   98  0.802486                             181   \n",
       "3 2023-08-31                  129  0.597826                             184   \n",
       "4 2023-09-30                  159  0.237705                             183   \n",
       "\n",
       "   days_acc  basis_mid  repo_implied_reporate  repo_reporate  conversion  \n",
       "0       145  13.138350               3.619994          4.815      0.9226  \n",
       "1       114  17.307175               3.644369          4.815      0.9212  \n",
       "2        83  24.180222               3.631045          4.815      0.9058  \n",
       "3        55  32.893100               3.550495          4.815      0.9234  \n",
       "4        24  38.039247               3.570506          4.815      0.9075  "
      ]
     },
     "execution_count": 100,
     "metadata": {},
     "output_type": "execute_result"
    }
   ],
   "source": [
    "bond_info"
   ]
  },
  {
   "cell_type": "code",
   "execution_count": 117,
   "metadata": {},
   "outputs": [],
   "source": [
    "fwd_price = bond_info.apply(lambda row:forward_price(clean_price=row['px_last'],repo = row['repo_reporate'],cpn = row['cpn'],curr_date=DATE,days_accrued=row['days_acc'],cpn_date1=row['nxt_cpn_dt'],delivery_date=Future_Expiration), axis = 1)"
   ]
  },
  {
   "cell_type": "code",
   "execution_count": 121,
   "metadata": {},
   "outputs": [
    {
     "data": {
      "text/plain": [
       "0   -0.055717\n",
       "1    0.082618\n",
       "2    0.347607\n",
       "3    0.547646\n",
       "4    0.757572\n",
       "dtype: float64"
      ]
     },
     "execution_count": 121,
     "metadata": {},
     "output_type": "execute_result"
    }
   ],
   "source": [
    "conversions = bond_info['conversion']\n",
    "\n",
    "fwd_price - conversions*Future_Price\n"
   ]
  },
  {
   "cell_type": "code",
   "execution_count": 113,
   "metadata": {},
   "outputs": [],
   "source": [
    "Future_0 = futures_price(110,repo=repo,cpn = cpn,curr_date=\"2015-07-30\",cpn_date0=\"2015-02-04\",cpn_date1=\"2015-08-04\",conversion=1.5,delivery_date=\"2015-09-30\")"
   ]
  },
  {
   "cell_type": "code",
   "execution_count": null,
   "metadata": {},
   "outputs": [],
   "source": []
  },
  {
   "cell_type": "code",
   "execution_count": 82,
   "metadata": {},
   "outputs": [
    {
     "data": {
      "text/plain": [
       "-0.01303720948843079"
      ]
     },
     "execution_count": 82,
     "metadata": {},
     "output_type": "execute_result"
    }
   ],
   "source": []
  }
 ],
 "metadata": {
  "kernelspec": {
   "display_name": "base",
   "language": "python",
   "name": "python3"
  },
  "language_info": {
   "codemirror_mode": {
    "name": "ipython",
    "version": 3
   },
   "file_extension": ".py",
   "mimetype": "text/x-python",
   "name": "python",
   "nbconvert_exporter": "python",
   "pygments_lexer": "ipython3",
   "version": "3.9.13"
  },
  "orig_nbformat": 4
 },
 "nbformat": 4,
 "nbformat_minor": 2
}
