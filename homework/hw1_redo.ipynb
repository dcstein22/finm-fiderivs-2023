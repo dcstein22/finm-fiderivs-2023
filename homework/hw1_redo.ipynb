{
 "cells": [
  {
   "cell_type": "code",
   "execution_count": 130,
   "metadata": {},
   "outputs": [],
   "source": [
    "import pandas as pd\n",
    "import numpy as np\n",
    "import xbbg\n",
    "import pdblp\n",
    "from xbbg import blp\n",
    "from Binomial_Fixed.ficcvol import *\n",
    "import Binomial_Fixed\n",
    "import quandl\n",
    "apikey = 'J_fXGeVW_zC6RaDeJSQv'\n",
    "quandl.ApiConfig.api_key = apikey\n",
    "import datetime \n",
    "import matplotlib.pyplot as plt\n",
    "%matplotlib inline\n",
    "import matplotlib as mpl\n",
    "plt.style.use('seaborn')\n",
    "mpl.rcParams['font.family'] = 'serif'\n",
    "\n"
   ]
  },
  {
   "attachments": {},
   "cell_type": "markdown",
   "metadata": {},
   "source": [
    "# Volatility Modeling"
   ]
  },
  {
   "cell_type": "code",
   "execution_count": 106,
   "metadata": {},
   "outputs": [],
   "source": [
    "TICKS = [\n",
    "    'OWF/CBT_FV_FV_U2023_IV',\n",
    "    'OWF/CME_ES_ES_U2023_IV',\n",
    "    'OWF/CBT_TY_TY_U2023_IV',\n",
    "    'OWF/CBT_FF_FF_N2023_IV',\n",
    "    'OWF/CME_ED_ED_U2023_IV',\n",
    "]\n",
    "\n",
    "ticksplitlabs = ['exchange','futures ticker','option ticker','monthYear']\n",
    "info = pd.DataFrame(index=ticksplitlabs)\n",
    "info.index.name = 'specs'\n",
    "surfs = dict()\n",
    "labels = dict()"
   ]
  },
  {
   "cell_type": "code",
   "execution_count": 108,
   "metadata": {},
   "outputs": [],
   "source": [
    "for tick in TICKS:\n",
    "    ### Download Data\n",
    "    df_model = quandl.get(f'{tick}M')\n",
    "    df_surf = quandl.get(f'{tick}S')\n",
    "\n",
    "    ### Organize Labels\n",
    "    finalDate = df_model.index[-1]\n",
    "    tick_split = tick.split('/')[1].split('_')[0:-1]\n",
    "    labels[tick] = ' '.join(tick_split)\n",
    "    label = labels[tick]\n",
    "\n",
    "    ### Data Descriptions\n",
    "    info.loc[ticksplitlabs,label] = tick_split\n",
    "    info.loc['option expiration',label] = (finalDate + datetime.timedelta(df_model.loc[finalDate,'DtE'])).strftime('%Y-%m-%d')\n",
    "    info.loc['future expiration',label] = (finalDate + datetime.timedelta(df_model.loc[finalDate,'DtT'])).strftime('%Y-%m-%d')\n",
    "\n",
    "\n",
    "    ### Organize Data\n",
    "    surf = df_surf.drop(columns=['DNSvol','DtE']).join(df_model[['Future','DtE','DtT']]).rename(columns={'DtT': 'Expiration Future','DtE':'Expiration Option','Future':'Future Price'})\n",
    "    surf = pd.concat([surf.iloc[:,-3:], surf.iloc[:,0:-3]],axis=1)\n",
    "    surf[['Expiration Future','Expiration Option']] /= 365\n",
    "    \n",
    "    surfs[tick] = surf"
   ]
  },
  {
   "cell_type": "code",
   "execution_count": 117,
   "metadata": {},
   "outputs": [],
   "source": [
    "from scipy.optimize import fsolve\n",
    "from scipy.optimize import minimize\n",
    "\n",
    "from pandas.tseries.offsets import Day, BDay\n",
    "from datetime import date"
   ]
  }
 ],
 "metadata": {
  "kernelspec": {
   "display_name": "base",
   "language": "python",
   "name": "python3"
  },
  "language_info": {
   "codemirror_mode": {
    "name": "ipython",
    "version": 3
   },
   "file_extension": ".py",
   "mimetype": "text/x-python",
   "name": "python",
   "nbconvert_exporter": "python",
   "pygments_lexer": "ipython3",
   "version": "3.9.13"
  },
  "orig_nbformat": 4
 },
 "nbformat": 4,
 "nbformat_minor": 2
}
